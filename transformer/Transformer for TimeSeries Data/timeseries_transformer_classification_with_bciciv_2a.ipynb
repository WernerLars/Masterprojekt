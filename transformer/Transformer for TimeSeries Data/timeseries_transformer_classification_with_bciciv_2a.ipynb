{
 "cells": [
  {
   "cell_type": "code",
   "execution_count": 1,
   "outputs": [],
   "source": [
    "from tensorflow import keras\n",
    "\n",
    "## Data import\n",
    "import numpy as np\n",
    "import mne\n",
    "\n",
    "# EEGNet-specific imports\n",
    "from keras import utils as np_utils\n",
    "from keras import backend as K"
   ],
   "metadata": {
    "collapsed": false,
    "pycharm": {
     "name": "#%%\n"
    }
   }
  },
  {
   "cell_type": "code",
   "execution_count": 2,
   "outputs": [],
   "source": [
    "folder_path_string = \"BCICIV_2a_gdf/\"\n",
    "\n",
    "file_path_string = folder_path_string + \"A01T.gdf\"\n",
    "evaluation_path_string = folder_path_string + \"A01T.evt\"\n",
    "\n",
    "raws = []"
   ],
   "metadata": {
    "collapsed": false,
    "pycharm": {
     "name": "#%%\n"
    }
   }
  },
  {
   "cell_type": "code",
   "execution_count": 3,
   "outputs": [
    {
     "name": "stdout",
     "output_type": "stream",
     "text": [
      "Extracting EDF parameters from C:\\Users\\Lars\\Desktop\\transformer\\Transformer for TimeSeries Data\\BCICIV_2a_gdf\\A01T.gdf...\n",
      "GDF file detected\n",
      "Setting channel info structure...\n",
      "Could not determine channel type of the following channels, they will be set as EEG:\n",
      "EEG-Fz, EEG, EEG, EEG, EEG, EEG, EEG, EEG-C3, EEG, EEG-Cz, EEG, EEG-C4, EEG, EEG, EEG, EEG, EEG, EEG, EEG, EEG-Pz, EEG, EEG, EOG-left, EOG-central, EOG-right\n",
      "Creating raw.info structure...\n",
      "Reading 0 ... 672527  =      0.000 ...  2690.108 secs...\n"
     ]
    },
    {
     "name": "stderr",
     "output_type": "stream",
     "text": [
      "c:\\users\\lars\\appdata\\local\\programs\\python\\python37\\lib\\site-packages\\mne\\io\\edf\\edf.py:1123: DeprecationWarning: The binary mode of fromstring is deprecated, as it behaves surprisingly on unicode inputs. Use frombuffer instead\n",
      "  etmode = np.fromstring(etmode, UINT8).tolist()[0]\n",
      "c:\\users\\lars\\appdata\\local\\programs\\python\\python37\\lib\\contextlib.py:119: RuntimeWarning: Channel names are not unique, found duplicates for: {'EEG'}. Applying running numbers for duplicates.\n",
      "  next(self.gen)\n"
     ]
    },
    {
     "name": "stdout",
     "output_type": "stream",
     "text": [
      "Filtering raw data in 1 contiguous segment\n",
      "Setting up high-pass filter at 2 Hz\n",
      "\n",
      "IIR filter parameters\n",
      "---------------------\n",
      "Butterworth highpass zero-phase (two-pass forward and reverse) non-causal filter:\n",
      "- Filter order 8 (effective, after forward-backward)\n",
      "- Cutoff at 2.00 Hz: -6.02 dB\n",
      "\n",
      "Used Annotations descriptions: ['1023', '1072', '276', '277', '32766', '768', '769', '770', '771', '772']\n",
      "event_id  [0 0 3]\n",
      "<Epochs |  288 events (all good), 0 - 1 sec, baseline off, ~12.2 MB, data loaded,\n",
      " '7': 72\n",
      " '8': 72\n",
      " '9': 72\n",
      " '10': 72>\n",
      "X.Shape (288, 22, 251)\n",
      "X_train shape: (230, 22, 251, 1)\n",
      "X_test shape: (58, 22, 251, 1)\n",
      "y.Shape (288,)\n",
      "y_train shape: (230, 4)\n",
      "y_test shape: (58, 4)\n",
      "230 train samples\n",
      "58 test samples\n",
      "num_classes: 4\n"
     ]
    }
   ],
   "source": [
    "# while the default tensorflow ordering is 'channels_last' we set it here\n",
    "# to be explicit in case if the user has changed the default ordering\n",
    "K.set_image_data_format('channels_last')\n",
    "\n",
    "##################### Process, filter and epoch the data ######################\n",
    "raw_fname = file_path_string\n",
    "event_fname = evaluation_path_string\n",
    "tmin, tmax = -0., 1\n",
    "\n",
    "# Setup for reading the raw data\n",
    "raw = mne.io.read_raw_gdf(raw_fname)\n",
    "raw.load_data()\n",
    "\n",
    "#original filter\n",
    "raw.filter(2, None, method='iir')  # replace baselining with high-pass\n",
    "\n",
    "events, event_ids = mne.events_from_annotations(raw)\n",
    "event_id = events[1]\n",
    "print(\"event_id \",event_id)\n",
    "picks = mne.pick_types(raw.info, meg=False, eeg=True, stim=False, eog=False,\n",
    "                       exclude='bads')\n",
    "picks = mne.pick_types(raw.info, meg=False, eeg=True, stim=False, eog=False)\n",
    "\n",
    "# Read epochs\n",
    "stims =[value for key, value in event_ids.items() if key in ('769','770','771','772')]\n",
    "epochs = mne.Epochs(raw, events, stims, tmin, tmax, proj=False,\n",
    "                    picks=picks, baseline=None, preload=True, verbose=False)\n",
    "channels_to_remove = ['EOG-left', 'EOG-central', 'EOG-right']\n",
    "epochs = epochs.drop_channels(channels_to_remove)\n",
    "labels = epochs.events[:, -1]\n",
    "print(epochs)\n",
    "\n",
    "# extract raw data. scale by 1000 due to scaling sensitivity in deep learning\n",
    "X = epochs.get_data()*1000 # format is in (trials, channels, samples)\n",
    "y = labels\n",
    "y[y == 7] = 0\n",
    "y[y == 8] = 1\n",
    "y[y == 9] = 2\n",
    "y[y == 10] = 3\n",
    "\n",
    "kernels, chans, samples = 1, X.shape[1], X.shape[2]\n",
    "\n",
    "# take 50/25/25 percent of the data to train/validate/test\n",
    "\n",
    "train_idx = round(X.shape[0] * 0.8)\n",
    "#test_idx = round(X.shape[0] * 0.75)\n",
    "\n",
    "X_train      = X[0:train_idx,]\n",
    "Y_train      = y[0:train_idx]\n",
    "#X_validate   = X[train_idx:test_idx,]\n",
    "#Y_validate   = y[train_idx:test_idx]\n",
    "X_test       = X[train_idx:,]\n",
    "Y_test       = y[train_idx:]\n",
    "\n",
    "############################# EEGNet portion ##################################\n",
    "\n",
    "# convert labels to one-hot encodings.\n",
    "y_unique = np.unique(y)\n",
    "num_classes = len(y_unique)\n",
    "Y_train      = np_utils.to_categorical(Y_train-1, num_classes=num_classes)\n",
    "#Y_validate   = np_utils.to_categorical(Y_validate-1, num_classes=num_classes)\n",
    "Y_test       = np_utils.to_categorical(Y_test-1, num_classes=num_classes)\n",
    "\n",
    "# convert data to NHWC (trials, channels, samples, kernels) format. Data\n",
    "# contains 60 channels and 151 time-points. Set the number of kernels to 1.\n",
    "X_train      = X_train.reshape(X_train.shape[0], chans, samples, kernels)\n",
    "#X_validate   = X_validate.reshape(X_validate.shape[0], chans, samples, kernels)\n",
    "X_test       = X_test.reshape(X_test.shape[0], chans, samples, kernels)\n",
    "\n",
    "print(\"X.Shape\", X.shape)\n",
    "print('X_train shape:', X_train.shape)\n",
    "print('X_test shape:', X_test.shape)\n",
    "print(\"y.Shape\", y.shape)\n",
    "print('y_train shape:', Y_train.shape)\n",
    "print('y_test shape:', Y_test.shape)\n",
    "print(X_train.shape[0], 'train samples')\n",
    "print(X_test.shape[0], 'test samples')\n",
    "print('num_classes:', num_classes)"
   ],
   "metadata": {
    "collapsed": false,
    "pycharm": {
     "name": "#%%\n"
    }
   }
  },
  {
   "cell_type": "markdown",
   "source": [
    "## Build the model\n",
    "\n",
    "Our model processes a tensor of shape `(batch size, sequence length, features)`,\n",
    "where `sequence length` is the number of time steps and `features` is each input\n",
    "timeseries.\n",
    "\n",
    "You can replace your classification RNN layers with this one: the\n",
    "inputs are fully compatible!\n",
    "\n",
    "We include residual connections, layer normalization, and dropout.\n",
    "The resulting layer can be stacked multiple times.\n",
    "\n",
    "The projection layers are implemented through `keras.layers.Conv1D`."
   ],
   "metadata": {
    "collapsed": false,
    "pycharm": {
     "name": "#%% md\n"
    }
   }
  },
  {
   "cell_type": "code",
   "execution_count": 4,
   "outputs": [],
   "source": [
    "def transformer_encoder(inputs, head_size, num_heads, ff_dim, dropout=0):\n",
    "    # Attention and Normalization\n",
    "    x = keras.layers.MultiHeadAttention(\n",
    "        key_dim=head_size, num_heads=num_heads, dropout=dropout\n",
    "    )(inputs, inputs)\n",
    "    x = keras.layers.Dropout(dropout)(x)\n",
    "    x = keras.layers.LayerNormalization(epsilon=1e-6)(x)\n",
    "    res = x + inputs\n",
    "\n",
    "    # Feed Forward Part\n",
    "    x = keras.layers.Conv1D(filters=ff_dim, kernel_size=1, activation=\"relu\")(res)\n",
    "    x = keras.layers.Dropout(dropout)(x)\n",
    "    x = keras.layers.Conv1D(filters=inputs.shape[-1], kernel_size=1)(x)\n",
    "    x = keras.layers.LayerNormalization(epsilon=1e-6)(x)\n",
    "    return x + res"
   ],
   "metadata": {
    "collapsed": false,
    "pycharm": {
     "name": "#%%\n"
    }
   }
  },
  {
   "cell_type": "markdown",
   "source": [
    "The main part of our model is now complete. We can stack multiple of those\n",
    "`transformer_encoder` blocks and we can also proceed to add the final\n",
    "Multi-Layer Perceptron classification head. Apart from a stack of `Dense`\n",
    "layers, we need to reduce the output tensor of the `TransformerEncoder` part of\n",
    "our model down to a vector of features for each data point in the current\n",
    "batch. A common way to achieve this is to use a pooling layer. For\n",
    "this example, a `GlobalAveragePooling1D` layer is sufficient."
   ],
   "metadata": {
    "collapsed": false,
    "pycharm": {
     "name": "#%% md\n"
    }
   }
  },
  {
   "cell_type": "code",
   "execution_count": 5,
   "outputs": [],
   "source": [
    "def build_model(\n",
    "    input_shape,\n",
    "    head_size,\n",
    "    num_heads,\n",
    "    ff_dim,\n",
    "    num_transformer_blocks,\n",
    "    mlp_units,\n",
    "    dropout=0,\n",
    "    mlp_dropout=0,\n",
    "):\n",
    "    inputs = keras.Input(shape=input_shape)\n",
    "    x = inputs\n",
    "    for _ in range(num_transformer_blocks):\n",
    "        x = transformer_encoder(x, head_size, num_heads, ff_dim, dropout)\n",
    "\n",
    "    x = keras.layers.GlobalAveragePooling2D(data_format=\"channels_first\")(x)\n",
    "    for dim in mlp_units:\n",
    "        x = keras.layers.Dense(dim, activation=\"relu\")(x)\n",
    "        x = keras.layers.Dropout(mlp_dropout)(x)\n",
    "    outputs = keras.layers.Dense(num_classes, activation=\"softmax\")(x)\n",
    "    return keras.Model(inputs, outputs)"
   ],
   "metadata": {
    "collapsed": false,
    "pycharm": {
     "name": "#%%\n"
    }
   }
  },
  {
   "cell_type": "markdown",
   "source": [
    "## Train and evaluate"
   ],
   "metadata": {
    "collapsed": false,
    "pycharm": {
     "name": "#%% md\n"
    }
   }
  },
  {
   "cell_type": "code",
   "execution_count": 6,
   "outputs": [
    {
     "name": "stdout",
     "output_type": "stream",
     "text": [
      "You must install pydot (`pip install pydot`) and install graphviz (see instructions at https://graphviz.gitlab.io/download/) for plot_model/model_to_dot to work.\n"
     ]
    }
   ],
   "source": [
    "input_shape = X_train.shape[1:]\n",
    "\n",
    "model = build_model(\n",
    "    input_shape,\n",
    "    head_size=64,\n",
    "    num_heads=2,\n",
    "    ff_dim=4,\n",
    "    num_transformer_blocks=1,\n",
    "    mlp_units=[8],\n",
    "    mlp_dropout=0.4,\n",
    "    dropout=0.25,\n",
    ")\n",
    "\n",
    "keras.utils.plot_model(model, show_shapes=True)"
   ],
   "metadata": {
    "collapsed": false,
    "pycharm": {
     "name": "#%%\n"
    }
   }
  },
  {
   "cell_type": "code",
   "execution_count": 7,
   "outputs": [
    {
     "name": "stdout",
     "output_type": "stream",
     "text": [
      "Model: \"model\"\n",
      "__________________________________________________________________________________________________\n",
      " Layer (type)                   Output Shape         Param #     Connected to                     \n",
      "==================================================================================================\n",
      " input_1 (InputLayer)           [(None, 22, 251, 1)  0           []                               \n",
      "                                ]                                                                 \n",
      "                                                                                                  \n",
      " multi_head_attention (MultiHea  (None, 22, 251, 1)  897         ['input_1[0][0]',                \n",
      " dAttention)                                                      'input_1[0][0]']                \n",
      "                                                                                                  \n",
      " dropout (Dropout)              (None, 22, 251, 1)   0           ['multi_head_attention[0][0]']   \n",
      "                                                                                                  \n",
      " layer_normalization (LayerNorm  (None, 22, 251, 1)  2           ['dropout[0][0]']                \n",
      " alization)                                                                                       \n",
      "                                                                                                  \n",
      " tf.__operators__.add (TFOpLamb  (None, 22, 251, 1)  0           ['layer_normalization[0][0]',    \n",
      " da)                                                              'input_1[0][0]']                \n",
      "                                                                                                  \n",
      " conv1d (Conv1D)                (None, 22, 251, 4)   8           ['tf.__operators__.add[0][0]']   \n",
      "                                                                                                  \n",
      " dropout_1 (Dropout)            (None, 22, 251, 4)   0           ['conv1d[0][0]']                 \n",
      "                                                                                                  \n",
      " conv1d_1 (Conv1D)              (None, 22, 251, 1)   5           ['dropout_1[0][0]']              \n",
      "                                                                                                  \n",
      " layer_normalization_1 (LayerNo  (None, 22, 251, 1)  2           ['conv1d_1[0][0]']               \n",
      " rmalization)                                                                                     \n",
      "                                                                                                  \n",
      " tf.__operators__.add_1 (TFOpLa  (None, 22, 251, 1)  0           ['layer_normalization_1[0][0]',  \n",
      " mbda)                                                            'tf.__operators__.add[0][0]']   \n",
      "                                                                                                  \n",
      " global_average_pooling2d (Glob  (None, 22)          0           ['tf.__operators__.add_1[0][0]'] \n",
      " alAveragePooling2D)                                                                              \n",
      "                                                                                                  \n",
      " dense (Dense)                  (None, 8)            184         ['global_average_pooling2d[0][0]'\n",
      "                                                                 ]                                \n",
      "                                                                                                  \n",
      " dropout_2 (Dropout)            (None, 8)            0           ['dense[0][0]']                  \n",
      "                                                                                                  \n",
      " dense_1 (Dense)                (None, 4)            36          ['dropout_2[0][0]']              \n",
      "                                                                                                  \n",
      "==================================================================================================\n",
      "Total params: 1,134\n",
      "Trainable params: 1,134\n",
      "Non-trainable params: 0\n",
      "__________________________________________________________________________________________________\n"
     ]
    }
   ],
   "source": [
    "'''model.compile(\n",
    "    loss=\"sparse_categorical_crossentropy\",\n",
    "    optimizer=keras.optimizers.Adam(learning_rate=1e-4),\n",
    "    metrics=[\"sparse_categorical_accuracy\"],\n",
    ")'''\n",
    "# compile the model and set the optimizers\n",
    "model.compile(loss='categorical_crossentropy', optimizer='adam',\n",
    "              metrics = ['accuracy', 'TruePositives', 'TrueNegatives'])\n",
    "model.summary()\n",
    "\n",
    "callbacks = [keras.callbacks.EarlyStopping(patience=10, restore_best_weights=True)]"
   ],
   "metadata": {
    "collapsed": false,
    "pycharm": {
     "name": "#%%\n"
    }
   }
  },
  {
   "cell_type": "code",
   "execution_count": 8,
   "outputs": [
    {
     "name": "stdout",
     "output_type": "stream",
     "text": [
      "Epoch 1/2\n",
      "WARNING:tensorflow:AutoGraph could not transform <function Model.make_train_function.<locals>.train_function at 0x000001BAF4C11F78> and will run it as-is.\n",
      "Please report this to the TensorFlow team. When filing the bug, set the verbosity to 10 (on Linux, `export AUTOGRAPH_VERBOSITY=10`) and attach the full output.\n",
      "Cause: 'arguments' object has no attribute 'posonlyargs'\n",
      "To silence this warning, decorate the function with @tf.autograph.experimental.do_not_convert\n",
      "WARNING: AutoGraph could not transform <function Model.make_train_function.<locals>.train_function at 0x000001BAF4C11F78> and will run it as-is.\n",
      "Please report this to the TensorFlow team. When filing the bug, set the verbosity to 10 (on Linux, `export AUTOGRAPH_VERBOSITY=10`) and attach the full output.\n",
      "Cause: 'arguments' object has no attribute 'posonlyargs'\n",
      "To silence this warning, decorate the function with @tf.autograph.experimental.do_not_convert\n",
      "92/92 [==============================] - ETA: 0s - loss: 1.3872 - accuracy: 0.2283 - true_positives: 0.0000e+00 - true_negatives: 552.0000WARNING:tensorflow:AutoGraph could not transform <function Model.make_test_function.<locals>.test_function at 0x000001BAF89D05E8> and will run it as-is.\n",
      "Please report this to the TensorFlow team. When filing the bug, set the verbosity to 10 (on Linux, `export AUTOGRAPH_VERBOSITY=10`) and attach the full output.\n",
      "Cause: 'arguments' object has no attribute 'posonlyargs'\n",
      "To silence this warning, decorate the function with @tf.autograph.experimental.do_not_convert\n",
      "WARNING: AutoGraph could not transform <function Model.make_test_function.<locals>.test_function at 0x000001BAF89D05E8> and will run it as-is.\n",
      "Please report this to the TensorFlow team. When filing the bug, set the verbosity to 10 (on Linux, `export AUTOGRAPH_VERBOSITY=10`) and attach the full output.\n",
      "Cause: 'arguments' object has no attribute 'posonlyargs'\n",
      "To silence this warning, decorate the function with @tf.autograph.experimental.do_not_convert\n",
      "92/92 [==============================] - 486s 5s/step - loss: 1.3872 - accuracy: 0.2283 - true_positives: 0.0000e+00 - true_negatives: 552.0000 - val_loss: 1.3858 - val_accuracy: 0.2826 - val_true_positives: 0.0000e+00 - val_true_negatives: 138.0000\n",
      "Epoch 2/2\n",
      "92/92 [==============================] - 494s 5s/step - loss: 1.3870 - accuracy: 0.2391 - true_positives: 0.0000e+00 - true_negatives: 552.0000 - val_loss: 1.3854 - val_accuracy: 0.2826 - val_true_positives: 0.0000e+00 - val_true_negatives: 138.0000\n"
     ]
    }
   ],
   "source": [
    "history = model.fit(\n",
    "    X_train,\n",
    "    Y_train,\n",
    "    validation_split=0.2,\n",
    "    epochs=2,\n",
    "    batch_size=2,\n",
    "    callbacks=callbacks,\n",
    ")\n",
    "\n",
    "#model.evaluate(X_test, Y_test, verbose=1)"
   ],
   "metadata": {
    "collapsed": false,
    "pycharm": {
     "name": "#%%\n"
    }
   }
  },
  {
   "cell_type": "code",
   "execution_count": null,
   "outputs": [],
   "source": [
    "model.evaluate(X_test, Y_test, verbose=1)"
   ],
   "metadata": {
    "collapsed": false,
    "pycharm": {
     "name": "#%%\n"
    }
   }
  },
  {
   "cell_type": "code",
   "execution_count": 10,
   "outputs": [
    {
     "name": "stdout",
     "output_type": "stream",
     "text": [
      "{'loss': [1.3885267972946167, 1.3870253562927246], 'accuracy': [0.27826085686683655, 0.25217390060424805], 'true_positives': [0.0, 0.0], 'true_negatives': [345.0, 345.0], 'val_loss': [1.3871972560882568, 1.386379599571228], 'val_accuracy': [0.2068965584039688, 0.2068965584039688], 'val_true_positives': [0.0, 0.0], 'val_true_negatives': [87.0, 87.0]}\n"
     ]
    }
   ],
   "source": [
    "print(history.history)"
   ],
   "metadata": {
    "collapsed": false,
    "pycharm": {
     "name": "#%%\n"
    }
   }
  },
  {
   "cell_type": "code",
   "execution_count": 13,
   "outputs": [
    {
     "data": {
      "text/plain": "<Figure size 432x288 with 1 Axes>",
      "image/png": "[encoded data removed]"
     },
     "metadata": {
      "needs_background": "light"
     },
     "output_type": "display_data"
    },
    {
     "data": {
      "text/plain": "<Figure size 432x288 with 1 Axes>",
      "image/png": "[encoded data removed]"
     },
     "metadata": {
      "needs_background": "light"
     },
     "output_type": "display_data"
    }
   ],
   "source": [
    "from matplotlib import pyplot as plt  # summarize history for accuracy\n",
    "plt.figure()\n",
    "plt.plot(history.history['accuracy'])\n",
    "plt.axis([0,1,0,1])\n",
    "plt.title('model accuracy')\n",
    "plt.ylabel('accuracy')\n",
    "plt.xlabel('epoch')\n",
    "plt.legend(['train'], loc='upper left')\n",
    "plt.show()\n",
    "# summarize history for loss\n",
    "plt.figure()\n",
    "plt.plot(history.history['loss'])\n",
    "plt.axis([0,1,0,3])\n",
    "plt.title('model loss')\n",
    "plt.ylabel('loss')\n",
    "plt.xlabel('epoch')\n",
    "plt.legend(['train'], loc='upper left')\n",
    "plt.show()"
   ],
   "metadata": {
    "collapsed": false,
    "pycharm": {
     "name": "#%%\n"
    }
   }
  },
  {
   "cell_type": "code",
   "execution_count": null,
   "outputs": [],
   "source": [],
   "metadata": {
    "collapsed": false,
    "pycharm": {
     "name": "#%%\n"
    }
   }
  }
 ],
 "metadata": {
  "kernelspec": {
   "display_name": "Python 3",
   "language": "python",
   "name": "python3"
  },
  "language_info": {
   "codemirror_mode": {
    "name": "ipython",
    "version": 2
   },
   "file_extension": ".py",
   "mimetype": "text/x-python",
   "name": "python",
   "nbconvert_exporter": "python",
   "pygments_lexer": "ipython2",
   "version": "2.7.6"
  }
 },
 "nbformat": 4,
 "nbformat_minor": 0
}